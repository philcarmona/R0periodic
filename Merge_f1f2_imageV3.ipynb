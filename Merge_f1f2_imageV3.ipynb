{
 "cells": [
  {
   "cell_type": "code",
   "execution_count": 1,
   "id": "e842985a-9827-4491-8b41-d2441d8a2bc4",
   "metadata": {},
   "outputs": [],
   "source": [
    "## This version is multiplied from version 2 after reducing. "
   ]
  },
  {
   "cell_type": "markdown",
   "id": "9db54de0",
   "metadata": {
    "id": "9db54de0",
    "tags": [
     "model3"
    ]
   },
   "source": [
    "# Initial "
   ]
  },
  {
   "cell_type": "code",
   "execution_count": 2,
   "id": "c66b4988-0dd4-417f-b94c-5b441a814ea5",
   "metadata": {
    "executionInfo": {
     "elapsed": 1611,
     "status": "ok",
     "timestamp": 1656334709029,
     "user": {
      "displayName": "Van Hai KHONG",
      "userId": "07528225313128259314"
     },
     "user_tz": -120
    },
    "id": "c66b4988-0dd4-417f-b94c-5b441a814ea5"
   },
   "outputs": [],
   "source": [
    "import numpy as np\n",
    "import matplotlib.pyplot as plt\n",
    "import matplotlib.gridspec as gridspec\n",
    "import pandas as pd\n",
    "from scipy.integrate import odeint,quad\n",
    "from scipy.stats import kde,beta\n",
    "import seaborn as sns\n",
    "from importlib import reload\n",
    "pi=np.pi\n",
    "from scipy.optimize import brentq\n",
    "\n",
    "#from numpy import linalg as LA\n",
    "from scipy.linalg import expm # calculate the exponential matrix.\n",
    "from scipy.linalg import eig\n",
    "\n",
    "import seaborn as sns\n",
    "from importlib import reload\n",
    "pi=np.pi\n",
    "from scipy.optimize import brentq\n",
    "from numpy import linalg as LA\n",
    "from scipy.linalg import expm\n",
    "from scipy import interpolate\n",
    "from scipy.integrate import quad, dblquad\n",
    "from scipy import integrate"
   ]
  },
  {
   "cell_type": "markdown",
   "id": "2043d89e-e64e-4a35-80df-8bc0831bf614",
   "metadata": {
    "id": "2043d89e-e64e-4a35-80df-8bc0831bf614"
   },
   "source": [
    "\\begin{aligned}\n",
    "    \\frac{\\text{d}S_H}{\\text{d}t} &= \\theta- a\\beta_{VH} \\frac{I_V S_H}{N_H} -\\mu_{H}S_{H},\\ \\\\\n",
    "    \\frac{\\text{d}I_H}{\\text{d}t} &= a \\beta_{VH} \\frac{I_V S_H}{N_H}- (\\mu_H + r_H)\n",
    "I_H ,\\ \\\\\n",
    "    \\frac{\\text{d}R_H}{\\text{d}t} &= r_H I_H -\\mu_H R_H,\\  \\\\\n",
    "    \\frac{\\text{d}S_V}{\\text{d}t} &= \\rho_V N_V - a \\beta_{HV} I_H S_V - \\mu_V S_V,\\ \\\\\n",
    "    \\frac{\\text{d}I_V}{\\text{d}t} &= a \\beta_{HV} I_H S_V -\\mu_V I_V ,\\\n",
    "\\end{aligned}\n",
    "$\\theta=\\mu_{H}\\left(S_{H}+I_{H}+R_{H}\\right)$."
   ]
  },
  {
   "cell_type": "code",
   "execution_count": null,
   "id": "bfc1ccaf-c752-4fb1-953e-a7e1a87282a8",
   "metadata": {
    "id": "bfc1ccaf-c752-4fb1-953e-a7e1a87282a8"
   },
   "outputs": [],
   "source": []
  },
  {
   "cell_type": "code",
   "execution_count": 3,
   "id": "bb5e352c-4698-443e-9420-722a0e151390",
   "metadata": {
    "id": "bb5e352c-4698-443e-9420-722a0e151390",
    "tags": [
     "spectralabc",
     "spectralrad",
     "vecetspectralrad"
    ]
   },
   "outputs": [],
   "source": [
    "#05/05/2022\n",
    "def spectralabc(m):  \n",
    "    l,w=eig(m) # l: the eigenvalue matrix(1 x len(m)) w the eigenvalue correspond to l, and each eigenvector is a column in w.\n",
    "    return np.max(np.real(l))\n",
    "\n",
    "def spectralrad(M):\n",
    "    l,w=eig(M)\n",
    "    return np.max(np.absolute(l))\n",
    "\n",
    "#Find the vector coressponding to the spectral radius\n",
    "def vecetspectralrad(M):\n",
    "#    l,w,r=eig(M,left=True)\n",
    "    l,w,r=eig(M,left=True)\n",
    "    lmax=np.max(np.absolute(l))\n",
    "    idmax=np.where(lmax==np.absolute(l))[0]\n",
    "    vrmax=r[:,idmax] # right eigenvector\n",
    "    vrmax=vrmax/sum(vrmax) # left eigenvector\n",
    "    return(l[idmax],vrmax)\n",
    "\n",
    "def vecetspectralabc(M):\n",
    "    l,w,r=eig(M,left=True)\n",
    "    lmax=np.max(np.real(l))\n",
    "    idmax=np.where(lmax==np.real(l))[0]\n",
    "    vrmax=r[:,idmax] # right eigenvector\n",
    "    vlmax=w[:,idmax] # left eigenvector\n",
    "    factor=np.dot(vlmax.transpose(),vrmax)\n",
    "    vlmax=vlmax/factor\n",
    "    return(l[idmax],vlmax,vrmax)"
   ]
  },
  {
   "cell_type": "markdown",
   "id": "6ecdc776-032c-4cc3-a1dd-af108de0a020",
   "metadata": {
    "id": "6ecdc776-032c-4cc3-a1dd-af108de0a020"
   },
   "source": [
    "# Define three models"
   ]
  },
  {
   "cell_type": "code",
   "execution_count": 4,
   "id": "6ea6a76f-3498-431b-abc2-58894edeab0a",
   "metadata": {
    "id": "6ea6a76f-3498-431b-abc2-58894edeab0a",
    "tags": [
     "Model1"
    ]
   },
   "outputs": [],
   "source": [
    "def model1(epsilon,t,mud=2,mdu=1,b1=1,b2=0):\n",
    "    def a(t):\n",
    "        return(1+b2*epsilon*f(t))\n",
    "    def NV1(t):\n",
    "        return(1+b1*epsilon*f(t))\n",
    "    def NV2(t):\n",
    "        return(np.exp(epsilon*b1*f(t)))\n",
    "    A=np.array([[-mud,mud*a(t)],\n",
    "                [mdu*a(t)*NV1(t),-mdu]])\n",
    "    return(A)"
   ]
  },
  {
   "cell_type": "code",
   "execution_count": 5,
   "id": "60f789d6-d6e8-42fd-b0d6-936cc8869eff",
   "metadata": {
    "id": "60f789d6-d6e8-42fd-b0d6-936cc8869eff",
    "tags": [
     "model2"
    ]
   },
   "outputs": [],
   "source": [
    "def model2(epsilon,t,mud=2,mdu=1,b1=0,b2=1):\n",
    "    def a(t):\n",
    "        return(1+b2*epsilon*f(t))\n",
    "    def NV1(t):\n",
    "        return(1+b1*epsilon*f(t))\n",
    "    def NV2(t):\n",
    "        return(np.exp(epsilon*b1*f(t)))\n",
    "    A=np.array([[-mud,mud*a(t)],\n",
    "                [mdu*a(t)*NV1(t),-mdu]])\n",
    "    return(A)"
   ]
  },
  {
   "cell_type": "code",
   "execution_count": 6,
   "id": "b47431ef-f347-41b7-9ac9-6691d0793c1b",
   "metadata": {
    "id": "b47431ef-f347-41b7-9ac9-6691d0793c1b",
    "tags": [
     "model3"
    ]
   },
   "outputs": [],
   "source": [
    "def model3(epsilon,t,mud=1,mdu=1,b1=1,b2=0):\n",
    "    def a(t):\n",
    "        return(1+b2*epsilon*f(t))\n",
    "    def NV1(t):\n",
    "        return(1+b1*epsilon*f(t))\n",
    "    def NV2(t):\n",
    "        return(np.exp(epsilon*b1*f(t)))\n",
    "    A=np.array([[-mud,mud*a(t)],\n",
    "                [mdu*a(t)*NV2(t),-mdu]])\n",
    "    return(A)"
   ]
  },
  {
   "cell_type": "code",
   "execution_count": null,
   "id": "1418fdd1-6f4f-4c2a-9765-a368f10d3cd7",
   "metadata": {
    "id": "1418fdd1-6f4f-4c2a-9765-a368f10d3cd7"
   },
   "outputs": [],
   "source": []
  },
  {
   "cell_type": "markdown",
   "id": "4a2c7b76-1d66-4f18-b246-6718749ac4f2",
   "metadata": {
    "id": "4a2c7b76-1d66-4f18-b246-6718749ac4f2"
   },
   "source": [
    "# Compute $\\lambda_{d} =\\rho(\\Phi(\\textbf{T}))$ the spectral radius"
   ]
  },
  {
   "cell_type": "code",
   "execution_count": 7,
   "id": "704647c9-5417-4b25-8071-63ce604dec42",
   "metadata": {
    "id": "704647c9-5417-4b25-8071-63ce604dec42"
   },
   "outputs": [],
   "source": [
    "# output: lambda(E), MSA, P\n",
    "def lamsaetapp(gena,epsilon,nbpts=100,T=1, Voir=False):   # epsilon known.\n",
    "#    timeint=np.arange(0,T+1/nbpts,T/nbpts)\n",
    "    n=101\n",
    "    timeint=np.linspace(0,T+1/nbpts,n)\n",
    "    def msisi(x,t):\n",
    "        return(np.dot(gena(epsilon,t/T),x))\n",
    "    y0=[1,0]\n",
    "    z0=np.array(odeint(msisi,y0,timeint))\n",
    "    y1=[0,1]\n",
    "    z1=np.array(odeint(msisi,y1,timeint))\n",
    "    E=np.array([z0[-1],z1[-1]])\n",
    "    E=E.transpose() # Any solution has the column form. \n",
    "    l,v=vecetspectralrad(E)\n",
    "    return (l)\n",
    "    #return (l, bs.mean())\n"
   ]
  },
  {
   "cell_type": "code",
   "execution_count": 8,
   "id": "e01c2219",
   "metadata": {
    "id": "e01c2219"
   },
   "outputs": [],
   "source": [
    "#19/10/2021\n",
    "# We assume N_H=1\n",
    "#a(t):=a*beta_{HV}\n",
    "#ra=beta_{VH}/beta_{HV}\n",
    "\n",
    "#bta=a*muvh\n",
    "#betaprime=a*muhv\n",
    "w=2*np.pi\n",
    "l=1500\n",
    "k=l+1\n",
    "\n",
    "def Findlambdad(epsilon=1,muv=1,muh=1,delta=1,bprime=1,rh=1, T=1,a0=1,ra=2):\n",
    "    def f(t):\n",
    "        return(np.sin(2*pi*t/T))  \n",
    "    def rho(t):                                                        # Malaria model \n",
    "        return(muv+epsilon*delta*w*(np.cos(w*t))/(1+epsilon*delta*np.sin(w*t)))\n",
    "    def NV(t):\n",
    "        return(1+epsilon*f(t)*delta)\n",
    "    def a(t):\n",
    "        return(a0*(1+epsilon*f(t)*bprime))        \n",
    "\n",
    "    def msisi(x,t):   # The original system \n",
    "        return(ra*a(t)*x[1]-(muh+rh)*x[0],\n",
    "               a(t)*x[0]*NV(t)-muv*x[1])\n",
    "\n",
    "    step=0.0005\n",
    "    time=np.arange(0,l*T,step)\n",
    "    timee=np.arange(l*T,k*T,step)\n",
    "    a_value=np.zeros(len(timee))\n",
    "    NV_value=np.zeros(len(timee))\n",
    "    for i in range(len(timee)):\n",
    "        a_value[i]=a(timee[i])\n",
    "        NV_value[i]=NV(timee[i])\n",
    "    timerad=np.linspace(0,T,T*100)\n",
    "    \n",
    "    \n",
    "# Compute the  the spectral radius of monodromy matrix\n",
    "    in0=[1,0]\n",
    "    sol0=np.array(odeint(msisi,in0,timerad))\n",
    "    in1=[0,1]\n",
    "    sol1=np.array(odeint(msisi,in1,timerad))\n",
    "    E=np.array([sol0[-1],sol1[-1]])\n",
    "    E=E.transpose()\n",
    "    #print(\"R0\",E)\n",
    "    R0=spectralrad(E)\n",
    "    return(R0)\n",
    "    "
   ]
  },
  {
   "cell_type": "code",
   "execution_count": 9,
   "id": "b2551b79",
   "metadata": {
    "id": "b2551b79"
   },
   "outputs": [],
   "source": [
    "def FindlambdadModelIpr(epsilon=1,muv=1,muh=1,delta=1,bprime=1,rh=1, T=1,a0=1,ra=2): # find \\lambda_{d} of model I' \n",
    "    def f(t):\n",
    "        return(np.sin(2*pi*t/T))  \n",
    "    def rho(t):                                                        # Malaria model \n",
    "        return(muv+epsilon*delta*w*(np.cos(w*t))/(1+epsilon*delta*np.sin(w*t)))\n",
    "    def NV(t):\n",
    "#        return(1+epsilon*f(t)*delta)\n",
    "        return(np.e**(epsilon*f(t)*delta))\n",
    "    def a(t):\n",
    "        return(a0*(1+epsilon*f(t)*bprime))        \n",
    "\n",
    "    def msisi(x,t):   # The original system \n",
    "        return(ra*a(t)*x[1]-(muh+rh)*x[0],\n",
    "               a(t)*x[0]*NV(t)-muv*x[1])\n",
    "\n",
    "    step=0.0005\n",
    "    time=np.arange(0,l*T,step)\n",
    "    timee=np.arange(l*T,k*T,step)\n",
    "    a_value=np.zeros(len(timee))\n",
    "    NV_value=np.zeros(len(timee))\n",
    "    for i in range(len(timee)):\n",
    "        a_value[i]=a(timee[i])\n",
    "        NV_value[i]=NV(timee[i])\n",
    "    timerad=np.linspace(0,T,T*100)\n",
    "    \n",
    "    \n",
    "# Compute the  the spectral radius of monodromy matrix\n",
    "    in0=[1,0]\n",
    "    sol0=np.array(odeint(msisi,in0,timerad))\n",
    "    in1=[0,1]\n",
    "    sol1=np.array(odeint(msisi,in1,timerad))\n",
    "    E=np.array([sol0[-1],sol1[-1]])\n",
    "    E=E.transpose()\n",
    "    #print(\"R0\",E)\n",
    "    R0=spectralrad(E)\n",
    "    return(R0)"
   ]
  },
  {
   "cell_type": "code",
   "execution_count": 10,
   "id": "64021b8d-7593-40ac-a0c1-d558537753d4",
   "metadata": {
    "id": "64021b8d-7593-40ac-a0c1-d558537753d4"
   },
   "outputs": [],
   "source": [
    "def f(t):\n",
    "    return(np.sin(2*np.pi*t))\n",
    "def simuP(epsilonmax=0.5,T=1,nb=100):\n",
    "    nbpoint=nb\n",
    "    ept=np.linspace(0,epsilonmax, nbpoint)\n",
    "    fig = plt.figure()\n",
    "    ax = fig.add_subplot()\n",
    "#    x=np.array([lamsaetapp(model1,epsilon=e,T=T) for e in ept])   #lamsaetapp : ( lambda, MSA,P)#    \n",
    "    x=np.array([np.real(lamsaetapp(model1,epsilon=e,T=T))[0] for e in ept])   #lamsaetapp : ( lambda, MSA,P)\n",
    "#    x=[]   #lamsaetapp : ( lambda, MSA,P)\n",
    "#    for i in range(len(ept)):\n",
    "#        x.append(np.real(lamsaetapp(model1,epsilon=ept[i],T=T))[0])\n",
    "    plt.plot(ept,x,'b',label=r\"Model I\")    \n",
    "\n",
    "    y=np.array([np.real(lamsaetapp(model2,epsilon=e,T=T))[0] for e in ept])   #lamsaetapp : ( lambda, MSA,P)\n",
    "    plt.plot(ept,y,'r-',label=r\"Model II\") \n",
    "\n",
    "    z=np.array([np.real(lamsaetapp(model3,epsilon=e,T=T))[0] for e in ept])   #lamsaetapp : ( lambda, MSA,P)\n",
    "    plt.plot(ept,z,'y',label=r\"Model I'\") \n",
    "\n",
    "    #print(\"Second ordre coefficient v0Bpi0Bu0\",coeffdeux)\n",
    "    \n",
    "    plt.xlabel(r\"$\\epsilon$\")\n",
    "#    ax.set_xlim([0, epsilonmax])\n",
    "    plt.legend()\n",
    "    plt.grid()\n",
    "    plt.ylabel(\"$\\lambda_{d}$\")\n",
    "    plt.title(\"The value of $\\lambda_{d}$ in different models\")\n",
    "    plt.savefig(\"P_value_theory.pdf\")\n",
    "#    return(ept,x,y,z)"
   ]
  },
  {
   "cell_type": "code",
   "execution_count": 11,
   "id": "edb36ba5-0b24-4559-8f53-a1300bbb3c4a",
   "metadata": {
    "id": "edb36ba5-0b24-4559-8f53-a1300bbb3c4a",
    "outputId": "b13d3ade-4d94-41f7-8861-972e1ba2e039"
   },
   "outputs": [
    {
     "data": {
      "image/png": "[encoded data removed]",
      "text/plain": [
       "<Figure size 432x288 with 1 Axes>"
      ]
     },
     "metadata": {
      "needs_background": "light"
     },
     "output_type": "display_data"
    }
   ],
   "source": [
    "simuP(epsilonmax=0.5,T=1,nb=100)"
   ]
  },
  {
   "cell_type": "code",
   "execution_count": null,
   "id": "842a75f2",
   "metadata": {
    "id": "842a75f2"
   },
   "outputs": [],
   "source": []
  },
  {
   "cell_type": "markdown",
   "id": "82bc7377",
   "metadata": {
    "id": "82bc7377"
   },
   "source": [
    "# Second order effect"
   ]
  },
  {
   "cell_type": "markdown",
   "id": "5e2b16ce-6505-4847-93cb-11b040170f19",
   "metadata": {
    "id": "5e2b16ce-6505-4847-93cb-11b040170f19"
   },
   "source": [
    "##  Model I':   Draw population model"
   ]
  },
  {
   "cell_type": "code",
   "execution_count": 12,
   "id": "aa05a816-bced-4820-aff7-a2402c6e064b",
   "metadata": {
    "id": "aa05a816-bced-4820-aff7-a2402c6e064b"
   },
   "outputs": [],
   "source": [
    "def NVab(delta=1,T=10,epsilon=0.5):\n",
    "    def f(t):\n",
    "        return(np.cos(2*pi*t/T)) \n",
    "    def NVa(t):\n",
    "        return(1+epsilon*f(t)*delta)\n",
    "    def NVb(t):\n",
    "        return(np.exp(epsilon*f(t)*delta))\n",
    "    time=np.linspace(0,2*T,T*10)\n",
    "    meanvb=integrate.quad(lambda t: NVb(t),0,T)[0]/T \n",
    "    NVa_value_av=np.zeros(len(time)) +integrate.quad(lambda t: NVa(t),0,T)[0]/T  \n",
    "    NVb_value_av=np.zeros(len(time)) + meanvb\n",
    "    NVa_value=np.zeros(len(time))\n",
    "    NVb_value=np.zeros(len(time))\n",
    "#    print(\"Gia tri cua tich phan\",integrate.quad(lambda t: NVa(t),0,T)[0]/T)  #1+epsilon*f(t)*delta \n",
    "    for i in range(len(time)):\n",
    "        NVa_value[i]=NVa(time[i])\n",
    "        NVb_value[i]=NVb(time[i])\n",
    "    plt.plot(time,NVa_value   ,\"b-\",label=\"$N_V^{(I)}$\")\n",
    "    plt.plot(time,NVa_value_av,\"b--\")# ,label=\"$<N_V^{(I)}>$\"\n",
    "    plt.plot(time,NVb_value   ,\"y-\",label=\"$N_V^{(I^{\\prime})}$\")\n",
    "    plt.plot(time,NVb_value_av,\"y--\")#,label=\"$<N_V^{(I^{\\prime})}>$\"\n",
    "    plt.annotate(\"$<N_V^{(I)}>= N_V(0)$\", xy=(20, 1), xytext=(21, 1))   \n",
    "#    plt.annotate(\"$<N_V^{(I)}>$\", xy=(20, 1), xytext=(20, 1),   arrowprops=dict(arrowstyle=\"->\"))    \n",
    "    plt.annotate(\"$<N_V^{(I^{\\prime})}>$\", xy=(20, meanvb), xytext=(21, meanvb))    \n",
    "#    plt.annotate(\"$<N_V^{(I^{\\prime})}>$\", xy=(20, meanvb), xytext=(21, meanvb),   arrowprops=dict(arrowstyle=\"->\"))    \n",
    "    plt.ylabel('$N_V(t)$')\n",
    "    plt.xlabel('t')\n",
    "#    plt.grid()\n",
    "    plt.legend(loc=2)\n",
    "    plt.xlim([0,2*T])\n",
    "#    plt.title(\"The varying population in  : $\\epsilon$=+str(epsilon) +str(, $\\N_V$=1)\")\n",
    "#    plt.title(\"The total population for  $\\epsilon$= \"+str(epsilon)+str( \", $N_V(0) $=1, T=10,  f(t)=$\\sin(2\\pi t)$\")  )\n",
    "    plt.savefig(\"NVab.pdf\", bbox_inches='tight')\n",
    "    plt.savefig(\"NVab.jpg\", bbox_inches='tight')"
   ]
  },
  {
   "cell_type": "code",
   "execution_count": 13,
   "id": "b3dbe227-fa76-457e-8de3-f0abba768414",
   "metadata": {
    "id": "b3dbe227-fa76-457e-8de3-f0abba768414"
   },
   "outputs": [
    {
     "data": {
      "image/png": "[encoded data removed]",
      "text/plain": [
       "<Figure size 432x288 with 1 Axes>"
      ]
     },
     "metadata": {
      "needs_background": "light"
     },
     "output_type": "display_data"
    }
   ],
   "source": [
    "NVab(delta=1,T=10,epsilon=0.5)"
   ]
  },
  {
   "cell_type": "code",
   "execution_count": null,
   "id": "92a29740-66cd-4262-8d9a-127f315e8b85",
   "metadata": {
    "id": "92a29740-66cd-4262-8d9a-127f315e8b85"
   },
   "outputs": [],
   "source": []
  },
  {
   "cell_type": "markdown",
   "id": "02b58b78-6631-40ad-9558-ee6fa9bfbfbd",
   "metadata": {
    "id": "02b58b78-6631-40ad-9558-ee6fa9bfbfbd"
   },
   "source": [
    "# Vector population and $I_{H}$"
   ]
  },
  {
   "cell_type": "markdown",
   "id": "ae3e9deb-8599-490a-b728-d4cfdffe4232",
   "metadata": {
    "id": "ae3e9deb-8599-490a-b728-d4cfdffe4232"
   },
   "source": [
    "Model\n",
    "\\begin{aligned}\n",
    "    \\frac{\\text{d}S_H}{\\text{d}t} &= \\theta- a\\beta_{VH} \\frac{I_V S_H}{N_H} -\\mu_{H}S_{H}=- a\\beta_{VH} \\frac{I_V S_H}{N_H} +\\mu_{H}(I_{H} +R_{H}) ,\\ \\\\\n",
    "    \\frac{\\text{d}I_H}{\\text{d}t} &= a \\beta_{VH} \\frac{I_V S_H}{N_H}- (\\mu_H + r_H)\n",
    "I_H ,\\ \\\\\n",
    "    \\frac{\\text{d}R_H}{\\text{d}t} &= r_H I_H -\\mu_H R_H,\\  \\\\\n",
    "    \\frac{\\text{d}S_V}{\\text{d}t} &= \\rho_V N_V - a \\beta_{HV} I_H S_V - \\mu_V S_V,\\ \\\\\n",
    "    \\frac{\\text{d}I_V}{\\text{d}t} &= a \\beta_{HV} I_H S_V -\\mu_V I_V ,\\\n",
    "\\end{aligned}\n",
    "$\\theta=\\mu_{H}\\left(S_{H}+I_{H}+R_{H}\\right)$.\n",
    "\n",
    "In the code of model, we assign, $a(t) $ represent for $a(t) \\beta_{HV}$ and $ra=\\beta_{VH}/\\beta_{HV}$ therefore, $a(t)\\beta_{VH} =ra .a(t)$\n",
    "\n",
    "\\begin{array}{rl}\n",
    "NV1(t)\t&= 1+c_{1}\\epsilon f(t) = 1+\\delta \\epsilon f(t)\\\\\n",
    "a(t)\t&= 1+c_{2}\\epsilon f(t)=1+b^\\prime \\epsilon f(t)\\\\\n",
    "NV2 (t)\t&=1+\\exp \\left( c_{1} \\epsilon f(t) \\right)\n",
    "\\end{array}"
   ]
  },
  {
   "cell_type": "code",
   "execution_count": null,
   "id": "435cc40e-8f54-4de3-a9b0-525c0c29c0ff",
   "metadata": {
    "id": "435cc40e-8f54-4de3-a9b0-525c0c29c0ff"
   },
   "outputs": [],
   "source": []
  },
  {
   "cell_type": "markdown",
   "id": "a29c43cd-1ab3-4ed2-b445-1b4d58eb04d7",
   "metadata": {
    "id": "1f8dae31"
   },
   "source": [
    "### Model $I^\\prime$"
   ]
  },
  {
   "cell_type": "markdown",
   "id": "2fbe3506-1275-425a-b334-7dbf65826d71",
   "metadata": {
    "id": "1f8dae31"
   },
   "source": [
    "#### $f(t)=\\sin(2 \\pi t/T)$"
   ]
  },
  {
   "cell_type": "code",
   "execution_count": 14,
   "id": "82d7b530",
   "metadata": {
    "id": "82d7b530"
   },
   "outputs": [],
   "source": [
    "def Findlambdad(epsilon=1,muv=1,muh=1,delta=1,bprime=1,rh=1, T=1,a0=1,ra=2):\n",
    "    def f(t):\n",
    "        return(np.sin(2*pi*t/T))  \n",
    "    def rho(t):                                                        # Malaria model \n",
    "        return(muv+epsilon*delta*w*(np.cos(w*t))/(1+epsilon*delta*np.sin(w*t)))\n",
    "    def NV(t):\n",
    "        return(1+epsilon*f(t)*delta)\n",
    "    def a(t):\n",
    "        return(a0*(1+epsilon*f(t)*bprime))        \n",
    "\n",
    "    def msisi(x,t):   # The original system \n",
    "        return(ra*a(t)*x[1]-(muh+rh)*x[0],\n",
    "               a(t)*x[0]*NV(t)-muv*x[1])\n",
    "\n",
    "#    step=0.0005\n",
    "#    time=np.arange(0,l*T,step)\n",
    "#    timee=np.arange(l*T,k*T,step)\n",
    "#    a_value=np.zeros(len(timee))\n",
    "#    NV_value=np.zeros(len(timee))\n",
    "#    for i in range(len(timee)):\n",
    "#        a_value[i]=a(timee[i])\n",
    "#        NV_value[i]=NV(timee[i])\n",
    "    timerad=np.linspace(0,T,T*100)\n",
    "    \n",
    "    \n",
    "# Compute the  the spectral radius of monodromy matrix\n",
    "    in0=[1,0]\n",
    "    sol0=np.array(odeint(msisi,in0,timerad))\n",
    "    in1=[0,1]\n",
    "    sol1=np.array(odeint(msisi,in1,timerad))\n",
    "    E=np.array([sol0[-1],sol1[-1]])\n",
    "    E=E.transpose()\n",
    "    #print(\"R0\",E)\n",
    "    R0=spectralrad(E)\n",
    "    return(R0)"
   ]
  },
  {
   "cell_type": "code",
   "execution_count": null,
   "id": "de9f5c81",
   "metadata": {
    "id": "de9f5c81"
   },
   "outputs": [],
   "source": []
  },
  {
   "cell_type": "markdown",
   "id": "2ce4d90a",
   "metadata": {
    "id": "2ce4d90a"
   },
   "source": [
    "## Recall that\n",
    "$$R_{0}=\\dfrac{a^{2}\\beta_{VH}\\beta_{HV}N_V }{\\left( \\mu_{H} +r_{H}\\right)\\mu_{V}}$$"
   ]
  },
  {
   "cell_type": "code",
   "execution_count": null,
   "id": "f111bda6-0837-4794-8599-59d03d849338",
   "metadata": {
    "id": "f111bda6-0837-4794-8599-59d03d849338"
   },
   "outputs": [],
   "source": []
  },
  {
   "cell_type": "code",
   "execution_count": 15,
   "id": "d86adfb0",
   "metadata": {
    "id": "d86adfb0",
    "outputId": "5433ae9b-6c43-41dd-cece-eca6b9a7f969"
   },
   "outputs": [
    {
     "data": {
      "text/plain": [
       "0.9999999999999998"
      ]
     },
     "execution_count": 15,
     "metadata": {},
     "output_type": "execute_result"
    }
   ],
   "source": [
    "FindlambdadModelIpr(epsilon=0,muv=1,muh=0.5,delta=1,bprime=0,rh=1.5, T=1,a0=1,ra=2)"
   ]
  },
  {
   "cell_type": "code",
   "execution_count": null,
   "id": "a7c8a927-1242-40f9-bc71-8de44e3cad55",
   "metadata": {
    "id": "7e60b6f6-e63a-425b-97fb-0ffbdaf8b7db",
    "outputId": "5348b00f-fffe-4c2a-dced-ecd998a46585"
   },
   "outputs": [],
   "source": []
  },
  {
   "cell_type": "code",
   "execution_count": 16,
   "id": "844ef98a-87c5-4d49-8592-d34764977857",
   "metadata": {
    "id": "7e60b6f6-e63a-425b-97fb-0ffbdaf8b7db",
    "outputId": "5348b00f-fffe-4c2a-dced-ecd998a46585"
   },
   "outputs": [
    {
     "data": {
      "image/png": "[encoded data removed]",
      "text/plain": [
       "<Figure size 432x288 with 1 Axes>"
      ]
     },
     "metadata": {
      "needs_background": "light"
     },
     "output_type": "display_data"
    }
   ],
   "source": [
    "muv=1\n",
    "muh=0.5\n",
    "\n",
    "rh=1.5\n",
    "T=5\n",
    "a0=1\n",
    "ra=2\n",
    "fig,ax=plt.subplots()\n",
    "epsilonmax=0.8\n",
    "nb=20\n",
    "epsl=np.linspace(0,epsilonmax,nb)\n",
    "lbdavl  =np.zeros(nb)\n",
    "lbdavlth=np.zeros(nb) # lambda_d by theory\n",
    "cst1=(T/(2*pi))\n",
    "cval=1+((muv+muh+rh)**2)*(cst1**2)\n",
    "cst2=T*muv*(muh+rh)/(muv+muh+rh)\n",
    "\n",
    "\n",
    "# Model 1 Vector population change \n",
    "\n",
    "delta=1\n",
    "bprime=0\n",
    "cst3=cst1**2* ((delta+bprime)*(muh+rh)-muv*bprime)*( (delta+bprime)*muv-bprime*(muh+rh))\n",
    "cst=cst2*(delta*bprime/2-cst3/(2*cval)    )\n",
    "#print(cst)\n",
    "\n",
    "for i in range(nb):  # vector population change\n",
    "#    lbdavl[i]=Findlambdad(epsilon=epsl[i],muv=muv,muh=muh,delta=delta,bprime=bprime,rh=rh, T=T,a0=a0,ra=ra)  # lambda value\n",
    "#    lbdavlth[i]=1+cst*epsl[i]**2  # theory\n",
    "    lbdavl[i]=np.log(Findlambdad(epsilon=epsl[i],muv=muv,muh=muh,delta=delta,bprime=bprime,rh=rh, T=T,a0=a0,ra=ra))  # lambda value\n",
    "    lbdavlth[i]=np.log(1+cst*epsl[i]**2)  # theory\n",
    "line1,= plt.plot(epsl,lbdavl,\"b\",label=\"Model I\")\n",
    "#line11,= plt.plot(epsl,lbdavl,\"b\",label=\"Numerical result\")\n",
    "#line2,= plt.plot(epsl,lbdavlth,'--b',label=\"Theoretical result\")\n",
    "\n",
    "\n",
    "# Model II Biting rate change. \n",
    "\n",
    "delta=0\n",
    "bprime=1\n",
    "cst3=cst1**2* ((delta+bprime)*(muh+rh)-muv*bprime)*( (delta+bprime)*muv-bprime*(muh+rh))\n",
    "cst=cst2*(delta*bprime/2-cst3/(2*cval)    )\n",
    "#print(cst)\n",
    "\n",
    "for i in range(nb):  # vector population change\n",
    "#    lbdavl[i]=Findlambdad(epsilon=epsl[i],muv=muv,muh=muh,delta=delta,bprime=bprime,rh=rh, T=T,a0=a0,ra=ra)  # lambda value\n",
    "#    lbdavlth[i]=1+cst*epsl[i]**2  # theory\n",
    "    lbdavl[i]=np.log(Findlambdad(epsilon=epsl[i],muv=muv,muh=muh,delta=delta,bprime=bprime,rh=rh, T=T,a0=a0,ra=ra))  # lambda value\n",
    "    lbdavlth[i]=np.log(1+cst*epsl[i]**2)  # theory\n",
    "line3,= plt.plot(epsl,lbdavl,\"r\",label=\"Model II\")\n",
    "line4,= plt.plot(epsl,lbdavlth,'--r',label=\"Theoretical\")\n",
    "\n",
    "\n",
    "# Model I'\n",
    "\n",
    "delta=1\n",
    "bprime=0\n",
    "cst3=cst1**2* ((delta+bprime)*(muh+rh)-muv*bprime)*( (delta+bprime)*muv-bprime*(muh+rh))\n",
    "cst=cst2*(delta**2/4+delta*bprime/2-cst3/(2*cval)    )\n",
    "#print(cst)\n",
    "\n",
    "for i in range(nb):  # vector population change\n",
    "#    lbdavl[i]=FindlambdadModelIpr(epsilon=epsl[i],muv=muv,muh=muh,delta=delta,bprime=bprime,rh=rh, T=T,a0=a0,ra=ra)  # lambda value\n",
    "#    lbdavlth[i]=1+cst*epsl[i]**2  # theory\n",
    "    lbdavl[i]=np.log(FindlambdadModelIpr(epsilon=epsl[i],muv=muv,muh=muh,delta=delta,bprime=bprime,rh=rh, T=T,a0=a0,ra=ra))  # lambda value\n",
    "    lbdavlth[i]=np.log(1+cst*epsl[i]**2)  # theory\n",
    "line5,= plt.plot(epsl,lbdavl,\"y\",label=\"Model $I^\\prime $\")\n",
    "line6,= plt.plot(epsl,lbdavlth,'--y',label=\"Theoretical\")\n",
    "\n",
    "#plt.xlim(0,0.5)\n",
    "#plt.ylim(-0.01,0.04)\n",
    "#plt.title(\"Effect of seasonality\")\n",
    "\n",
    "\n",
    "first_legend = plt.legend(handles=[line1,line3,line5], loc='upper left')\n",
    "ax = plt.gca().add_artist(first_legend)\n",
    "#plt.legend(handles=[line11,line2], loc='upper left')\n",
    "\n",
    "yzero=np.zeros(len(epsl))\n",
    "\n",
    "plt.plot(epsl,yzero,'k')\n",
    "\n",
    "#plt.grid()\n",
    "plt.xlabel(\"$\\epsilon$\")\n",
    "plt.ylabel(\"$\\ln(\\lambda_{d})$\")\n",
    "plt.xlim([0,0.8])\n",
    "#plt.axis('off')\n",
    "plt.savefig(\"loglambda.pdf\")"
   ]
  },
  {
   "cell_type": "code",
   "execution_count": null,
   "id": "a70ea9de-cec0-4b07-af1f-ecce97585ab2",
   "metadata": {
    "id": "7e60b6f6-e63a-425b-97fb-0ffbdaf8b7db",
    "outputId": "5348b00f-fffe-4c2a-dced-ecd998a46585"
   },
   "outputs": [],
   "source": []
  },
  {
   "cell_type": "markdown",
   "id": "18a124bc-64e1-4840-846e-2f4cedda8e30",
   "metadata": {
    "id": "0f6df2c0"
   },
   "source": [
    "#### $f(t)=cos(2 \\pi t/T)$"
   ]
  },
  {
   "cell_type": "code",
   "execution_count": 17,
   "id": "deb94d89-f51c-4bef-af3e-ebfa888671f0",
   "metadata": {
    "id": "0f6df2c0"
   },
   "outputs": [],
   "source": [
    "w=2*np.pi\n",
    "l=100\n",
    "k=l+2"
   ]
  },
  {
   "cell_type": "code",
   "execution_count": 18,
   "id": "5df7479e-6632-49f5-82a0-8e3b574a39f3",
   "metadata": {
    "id": "0f6df2c0"
   },
   "outputs": [],
   "source": [
    "def Findlambdadv2(epsilon=1,muv=1,muh=1,delta=1,bprime=1,rh=1, T=1,a0=1,ra=2):\n",
    "    def f(t):\n",
    "        return(np.cos(2*pi*t/T))  \n",
    "    def rho(t):                                                        # Malaria model \n",
    "        return(muv-epsilon*delta*w*(np.sin(w*t))/(1+epsilon*delta*np.cos(w*t)))\n",
    "    def NV(t):\n",
    "        return(1+epsilon*f(t)*delta)\n",
    "    def a(t):\n",
    "        return(a0*(1+epsilon*f(t)*bprime))        \n",
    "\n",
    "    def msisi(x,t):   # The original system \n",
    "        return(ra*a(t)*x[1]-(muh+rh)*x[0],\n",
    "               a(t)*x[0]*NV(t)-muv*x[1])\n",
    "\n",
    "#    step=0.0005\n",
    "#    time=np.arange(0,l*T,step)\n",
    "#    timee=np.arange(l*T,k*T,step)\n",
    "#    a_value=np.zeros(len(timee))\n",
    "#    NV_value=np.zeros(len(timee))\n",
    "#    for i in range(len(timee)):\n",
    "#        a_value[i]=a(timee[i])\n",
    "#        NV_value[i]=NV(timee[i])\n",
    "    timerad=np.linspace(0,T,T*100)\n",
    "    \n",
    "    \n",
    "# Compute the  the spectral radius of monodromy matrix\n",
    "    in0=[1,0]\n",
    "    sol0=np.array(odeint(msisi,in0,timerad))\n",
    "    in1=[0,1]\n",
    "    sol1=np.array(odeint(msisi,in1,timerad))\n",
    "    E=np.array([sol0[-1],sol1[-1]])\n",
    "    E=E.transpose()\n",
    "    #print(\"R0\",E)\n",
    "    R0=spectralrad(E)\n",
    "    return(R0)"
   ]
  },
  {
   "cell_type": "code",
   "execution_count": 19,
   "id": "1eab93fb-6a27-47f6-aff7-6e6d53a46c61",
   "metadata": {
    "id": "0f6df2c0"
   },
   "outputs": [],
   "source": [
    "def FindlambdadModelIprv2(epsilon=1,muv=1,muh=1,delta=1,bprime=1,rh=1, T=1,a0=1,ra=2): # find \\lambda_{d} of model I' \n",
    "    def f(t):\n",
    "        return(np.cos(2*pi*t/T))  \n",
    "    def rho(t):                                                        # Malaria model \n",
    "        return(muv-epsilon*delta*w*(np.sin(w*t))/(1+epsilon*delta*np.sin(w*t)))\n",
    "    def NV(t):\n",
    "#        return(1+epsilon*f(t)*delta)\n",
    "        return(np.e**(epsilon*f(t)*delta))\n",
    "    def a(t):\n",
    "        return(a0*(1+epsilon*f(t)*bprime))        \n",
    "\n",
    "    def msisi(x,t):   # The original system \n",
    "        return(ra*a(t)*x[1]-(muh+rh)*x[0],\n",
    "               a(t)*x[0]*NV(t)-muv*x[1])\n",
    "\n",
    "    step=0.0005\n",
    "    time=np.arange(0,l*T,step)\n",
    "    timee=np.arange(l*T,k*T,step)\n",
    "    a_value=np.zeros(len(timee))\n",
    "    NV_value=np.zeros(len(timee))\n",
    "    for i in range(len(timee)):\n",
    "        a_value[i]=a(timee[i])\n",
    "        NV_value[i]=NV(timee[i])\n",
    "    timerad=np.linspace(0,T,T*100)\n",
    "    \n",
    "    \n",
    "# Compute the  the spectral radius of monodromy matrix\n",
    "    in0=[1,0]\n",
    "    sol0=np.array(odeint(msisi,in0,timerad))\n",
    "    in1=[0,1]\n",
    "    sol1=np.array(odeint(msisi,in1,timerad))\n",
    "    E=np.array([sol0[-1],sol1[-1]])\n",
    "    E=E.transpose()\n",
    "    #print(\"R0\",E)\n",
    "    R0=spectralrad(E)\n",
    "    return(R0)"
   ]
  },
  {
   "cell_type": "code",
   "execution_count": 20,
   "id": "3a35692a-4ea1-4fa2-9216-e621e3b51ad1",
   "metadata": {
    "id": "0f6df2c0"
   },
   "outputs": [
    {
     "data": {
      "image/png": "[encoded data removed]",
      "text/plain": [
       "<Figure size 432x288 with 1 Axes>"
      ]
     },
     "metadata": {
      "needs_background": "light"
     },
     "output_type": "display_data"
    }
   ],
   "source": [
    "muv=1\n",
    "muh=0.5\n",
    "\n",
    "rh=1.5\n",
    "T=5\n",
    "a0=1\n",
    "ra=2\n",
    "fig,ax=plt.subplots()\n",
    "epsilonmax=0.8\n",
    "nb=20\n",
    "epsl=np.linspace(0,epsilonmax,nb)\n",
    "lbdavl  =np.zeros(nb)\n",
    "lbdavlth=np.zeros(nb) # lambda_d by theory\n",
    "cst1=(T/(2*pi))\n",
    "cval=1+((muv+muh+rh)**2)*(cst1**2)\n",
    "cst2=T*muv*(muh+rh)/(muv+muh+rh)\n",
    "\n",
    "\n",
    "# Model 1 Vector population change \n",
    "\n",
    "delta=1\n",
    "bprime=0\n",
    "cst3=cst1**2* ((delta+bprime)*(muh+rh)-muv*bprime)*( (delta+bprime)*muv-bprime*(muh+rh))\n",
    "cst=cst2*(delta*bprime/2-cst3/(2*cval)    )\n",
    "#print(cst)\n",
    "\n",
    "for i in range(nb):  # vector population change\n",
    "#    lbdavl[i]=Findlambdad(epsilon=epsl[i],muv=muv,muh=muh,delta=delta,bprime=bprime,rh=rh, T=T,a0=a0,ra=ra)  # lambda value\n",
    "#    lbdavlth[i]=1+cst*epsl[i]**2  # theory\n",
    "    lbdavl[i]=np.log(Findlambdadv2(epsilon=epsl[i],muv=muv,muh=muh,delta=delta,bprime=bprime,rh=rh, T=T,a0=a0,ra=ra))  # lambda value\n",
    "    lbdavlth[i]=np.log(1+cst*epsl[i]**2)  # theory\n",
    "line1,= plt.plot(epsl,lbdavl,\"b\",label=\"Model $I$\")\n",
    "#line11,= plt.plot(epsl,lbdavl,\"b\",label=\"Numerical result\")\n",
    "#line2,= plt.plot(epsl,lbdavlth,'--b',label=\"Theoretical result\")\n",
    "\n",
    "\n",
    "\n",
    "# Model I'\n",
    "\n",
    "delta=1\n",
    "bprime=0\n",
    "cst3=cst1**2* ((delta+bprime)*(muh+rh)-muv*bprime)*( (delta+bprime)*muv-bprime*(muh+rh))\n",
    "cst=cst2*(delta**2/4+delta*bprime/2-cst3/(2*cval)    )\n",
    "#print(cst)\n",
    "\n",
    "for i in range(nb):  # vector population change\n",
    "#    lbdavl[i]=FindlambdadModelIpr(epsilon=epsl[i],muv=muv,muh=muh,delta=delta,bprime=bprime,rh=rh, T=T,a0=a0,ra=ra)  # lambda value\n",
    "#    lbdavlth[i]=1+cst*epsl[i]**2  # theory\n",
    "    lbdavl[i]=np.log(FindlambdadModelIprv2(epsilon=epsl[i],muv=muv,muh=muh,delta=delta,bprime=bprime,rh=rh, T=T,a0=a0,ra=ra))  # lambda value\n",
    "    lbdavlth[i]=np.log(1+cst*epsl[i]**2)  # theory\n",
    "line5,= plt.plot(epsl,lbdavl,\"c\",label=\"Model $I^\\prime $\")\n",
    "line6,= plt.plot(epsl,lbdavlth,'--c',label=\"Theoretical\")\n",
    "\n",
    "#plt.xlim(0,0.5)\n",
    "#plt.ylim(-0.01,0.04)\n",
    "#plt.title(\"Effect of seasonality\")\n",
    "\n",
    "\n",
    "# Model II Biting rate change. \n",
    "\n",
    "delta=0\n",
    "bprime=1\n",
    "cst3=cst1**2* ((delta+bprime)*(muh+rh)-muv*bprime)*( (delta+bprime)*muv-bprime*(muh+rh))\n",
    "cst=cst2*(delta*bprime/2-cst3/(2*cval)    )\n",
    "#print(cst)\n",
    "\n",
    "for i in range(nb):  # vector population change\n",
    "#    lbdavl[i]=Findlambdad(epsilon=epsl[i],muv=muv,muh=muh,delta=delta,bprime=bprime,rh=rh, T=T,a0=a0,ra=ra)  # lambda value\n",
    "#    lbdavlth[i]=1+cst*epsl[i]**2  # theory\n",
    "    lbdavl[i]=np.log(Findlambdadv2(epsilon=epsl[i],muv=muv,muh=muh,delta=delta,bprime=bprime,rh=rh, T=T,a0=a0,ra=ra))  # lambda value\n",
    "    lbdavlth[i]=np.log(1+cst*epsl[i]**2)  # theory\n",
    "line3,= plt.plot(epsl,lbdavl,\"r\",label=\"Model $II$\")\n",
    "line4,= plt.plot(epsl,lbdavlth,'--r',label=\"Theoretical\")\n",
    "\n",
    "\n",
    "\n",
    "first_legend = plt.legend(handles=[line1,line5,line3], loc='upper left')\n",
    "ax = plt.gca().add_artist(first_legend)\n",
    "#plt.legend(handles=[line11,line2], loc='upper left')\n",
    "\n",
    "yzero=np.zeros(len(epsl))\n",
    "\n",
    "plt.plot(epsl,yzero,'k',linewidth=0.8)\n",
    "\n",
    "#plt.grid()\n",
    "plt.xlabel(\"$\\epsilon$\")\n",
    "plt.ylabel(\"$\\ln(\\lambda_{d})$\")\n",
    "plt.xlim([0,0.8])\n",
    "#plt.axis('off')\n",
    "plt.savefig(\"loglambda.pdf\")"
   ]
  },
  {
   "cell_type": "code",
   "execution_count": null,
   "id": "436ebfca-e5de-45cb-b199-d7420f5b1645",
   "metadata": {
    "id": "0f6df2c0"
   },
   "outputs": [],
   "source": []
  },
  {
   "cell_type": "code",
   "execution_count": null,
   "id": "6d87a972-6273-444d-964b-0057fca67cc3",
   "metadata": {
    "id": "0f6df2c0"
   },
   "outputs": [],
   "source": []
  }
 ],
 "metadata": {
  "colab": {
   "name": "Merge_f1f2_imageV2.ipynb",
   "provenance": []
  },
  "kernelspec": {
   "display_name": "Python 3 (ipykernel)",
   "language": "python",
   "name": "python3"
  },
  "language_info": {
   "codemirror_mode": {
    "name": "ipython",
    "version": 3
   },
   "file_extension": ".py",
   "mimetype": "text/x-python",
   "name": "python",
   "nbconvert_exporter": "python",
   "pygments_lexer": "ipython3",
   "version": "3.10.12"
  },
  "toc-autonumbering": true,
  "toc-showcode": false,
  "toc-showmarkdowntxt": false,
  "toc-showtags": false,
  "vscode": {
   "interpreter": {
    "hash": "ad2bdc8ecc057115af97d19610ffacc2b4e99fae6737bb82f5d7fb13d2f2c186"
   }
  }
 },
 "nbformat": 4,
 "nbformat_minor": 5
}
